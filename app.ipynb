{
 "cells": [
  {
   "cell_type": "code",
   "id": "initial_id",
   "metadata": {
    "collapsed": true,
    "ExecuteTime": {
     "end_time": "2025-02-17T23:17:32.630444Z",
     "start_time": "2025-02-17T23:17:32.627613Z"
    }
   },
   "source": [
    "import pandas as pd\n",
    "import numpy as np\n",
    "from sklearn.model_selection import train_test_split\n",
    "from sklearn.preprocessing import StandardScaler\n",
    "import torch\n",
    "from torch.utils.data import Dataset, DataLoader\n",
    "# import torch_summary as summary"
   ],
   "outputs": [],
   "execution_count": 527
  },
  {
   "metadata": {
    "ExecuteTime": {
     "end_time": "2025-02-17T23:17:32.671777Z",
     "start_time": "2025-02-17T23:17:32.665086Z"
    }
   },
   "cell_type": "code",
   "source": [
    "import numpy as np\n",
    "import plotly.graph_objects as go\n",
    "import torch\n",
    "\n",
    "\n",
    "def plot_model_learning(\n",
    "        model, x, y, x_range=[-3, 3], y_range=[-150, 150], dx=1, dy=30\n",
    "):\n",
    "    \"\"\"\n",
    "    Visualize a dataset and the model's predictions, showing how the model fits the dataset.\n",
    "\n",
    "    Parameters:\n",
    "        model: Trained PyTorch model to generate predictions\n",
    "        x: Input data (numpy array or torch tensor)\n",
    "        y: True target values (numpy array or torch tensor)\n",
    "        x_range: x-axis range [min, max] (default: [-3, 3])\n",
    "        y_range: y-axis range [min, max] (default: [-150, 150])\n",
    "        dx: Tick interval for x-axis\n",
    "        dy: Tick interval for y-axis\n",
    "    Returns:\n",
    "        fig: A Plotly interactive figure\n",
    "    \"\"\"\n",
    "\n",
    "    # Ensure `x` and `y` are numpy arrays for plotting\n",
    "    if isinstance(x, torch.Tensor):\n",
    "        x = x.detach().numpy()\n",
    "    if isinstance(y, torch.Tensor):\n",
    "        y = y.detach().numpy()\n",
    "\n",
    "    # Generate predictions from the model\n",
    "    with torch.no_grad():\n",
    "        x_tensor = torch.tensor(x, dtype=torch.float32)\n",
    "        y_hat = model(x_tensor).detach().numpy()\n",
    "\n",
    "    # Create the plot\n",
    "    fig = go.Figure()\n",
    "\n",
    "    # Plot the true data points\n",
    "    fig.add_trace(\n",
    "        go.Scatter(x=x.flatten(), y=y.flatten(), mode=\"markers\",\n",
    "                   marker=dict(size=10, color=\"blue\"),\n",
    "                   name=\"True Data\")\n",
    "    )\n",
    "\n",
    "    # Plot the model's predictions\n",
    "    fig.add_trace(\n",
    "        go.Scatter(\n",
    "            x=x.flatten(),\n",
    "            y=y_hat.flatten(),\n",
    "            mode=\"lines\",\n",
    "            line=dict(width=3, color=\"red\"),\n",
    "            name=\"Model Prediction\",\n",
    "        )\n",
    "    )\n",
    "\n",
    "    # Customize layout\n",
    "    fig.update_layout(\n",
    "        width=600,\n",
    "        height=500,\n",
    "        title=\"Model Learning Visualization\",\n",
    "        title_x=0.5,\n",
    "        xaxis_title=\"Input (x)\",\n",
    "        yaxis_title=\"Output (y)\",\n",
    "        margin=dict(t=60),\n",
    "    )\n",
    "    fig.update_xaxes(range=x_range, tick0=x_range[0], dtick=dx)\n",
    "    fig.update_yaxes(range=y_range, tick0=y_range[0], dtick=dy)\n",
    "\n",
    "    return fig\n",
    "\n",
    "\n",
    "\n",
    "def plot_dataset(x, y, x_range=None, y_range=None, dx=1, dy=30):\n",
    "    \"\"\"\n",
    "    Plot a dataset (x, y) without any predictions.\n",
    "\n",
    "    Parameters:\n",
    "        x: Input data (numpy array or torch tensor).\n",
    "        y: Output/target values (numpy array or torch tensor).\n",
    "        x_range: x-axis range [min, max]. If None, it adapts automatically.\n",
    "        y_range: y-axis range [min, max]. If None, it adapts automatically.\n",
    "        dx: Tick interval for x-axis.\n",
    "        dy: Tick interval for y-axis.\n",
    "    Returns:\n",
    "        fig: A Plotly interactive figure.\n",
    "    \"\"\"\n",
    "    # Ensure `x` and `y` are numpy arrays for easier plotting\n",
    "    if isinstance(x, torch.Tensor):\n",
    "        x = x.detach().numpy()\n",
    "    if isinstance(y, torch.Tensor):\n",
    "        y = y.detach().numpy()\n",
    "\n",
    "    # Create the plot\n",
    "    fig = go.Figure()\n",
    "\n",
    "    # Add data points as a scatter plot\n",
    "    fig.add_trace(\n",
    "        go.Scatter(\n",
    "            x=x.flatten(),\n",
    "            y=y.flatten(),\n",
    "            mode=\"markers\",\n",
    "            marker=dict(size=10, color=\"blue\"),\n",
    "            name=\"Data Points\"\n",
    "        )\n",
    "    )\n",
    "\n",
    "    # Customize layout\n",
    "    fig.update_layout(\n",
    "        width=600,\n",
    "        height=500,\n",
    "        title=\"Dataset Scatter Plot\",\n",
    "        title_x=0.5,\n",
    "        xaxis_title=\"Input (x)\",\n",
    "        yaxis_title=\"Output (y)\",\n",
    "        margin=dict(t=60),\n",
    "    )\n",
    "\n",
    "    # Set axis ranges if provided; otherwise, let Plotly auto-scale\n",
    "    if x_range is not None:\n",
    "        fig.update_xaxes(range=x_range, tick0=x_range[0], dtick=dx)\n",
    "    if y_range is not None:\n",
    "        fig.update_yaxes(range=y_range, tick0=y_range[0], dtick=dy)\n",
    "\n",
    "    return fig\n",
    "\n"
   ],
   "id": "bcc5799b680d8456",
   "outputs": [],
   "execution_count": 528
  },
  {
   "metadata": {
    "ExecuteTime": {
     "end_time": "2025-02-17T23:17:32.683683Z",
     "start_time": "2025-02-17T23:17:32.676223Z"
    }
   },
   "cell_type": "code",
   "source": [
    "np.random.seed(42)\n",
    "\n",
    "steps = np.random.randint(1000, 20000, 1000)\n",
    "calories_burned = np.random.uniform(1200, 4500, 1000)\n",
    "sleep_hours = np.random.uniform(4, 12, 1000)\n",
    "\n",
    "health_score = (\n",
    "    0.3 * (steps / 20000) * 100 +\n",
    "    0.4 * ((calories_burned - 1200) / (4500 - 1200)) * 100 +\n",
    "    0.3 * (sleep_hours / 12) * 100\n",
    ")\n",
    "\n",
    "health_score += np.random.normal(0, 5, 1000)\n",
    "\n",
    "df = pd.DataFrame({\n",
    "    'steps': steps,\n",
    "    'calories_burned': calories_burned,\n",
    "    'sleep_hours': sleep_hours,\n",
    "    'health_score': health_score\n",
    "})\n",
    "\n",
    "print(df.corr())\n",
    "\n",
    "df.head()"
   ],
   "id": "20ddc8828c756724",
   "outputs": [
    {
     "name": "stdout",
     "output_type": "stream",
     "text": [
      "                    steps  calories_burned  sleep_hours  health_score\n",
      "steps            1.000000        -0.049403    -0.058327      0.450064\n",
      "calories_burned -0.049403         1.000000     0.023884      0.721397\n",
      "sleep_hours     -0.058327         0.023884     1.000000      0.360569\n",
      "health_score     0.450064         0.721397     0.360569      1.000000\n"
     ]
    },
    {
     "data": {
      "text/plain": [
       "   steps  calories_burned  sleep_hours  health_score\n",
       "0  16795      2546.348835     8.895524     60.469143\n",
       "1   1860      3020.684564     4.847446     33.014047\n",
       "2   6390      2037.832261     5.212555     36.502435\n",
       "3  12964      1847.173229     4.750055     31.040483\n",
       "4  12284      2868.176001     8.617382     60.650668"
      ],
      "text/html": [
       "<div>\n",
       "<style scoped>\n",
       "    .dataframe tbody tr th:only-of-type {\n",
       "        vertical-align: middle;\n",
       "    }\n",
       "\n",
       "    .dataframe tbody tr th {\n",
       "        vertical-align: top;\n",
       "    }\n",
       "\n",
       "    .dataframe thead th {\n",
       "        text-align: right;\n",
       "    }\n",
       "</style>\n",
       "<table border=\"1\" class=\"dataframe\">\n",
       "  <thead>\n",
       "    <tr style=\"text-align: right;\">\n",
       "      <th></th>\n",
       "      <th>steps</th>\n",
       "      <th>calories_burned</th>\n",
       "      <th>sleep_hours</th>\n",
       "      <th>health_score</th>\n",
       "    </tr>\n",
       "  </thead>\n",
       "  <tbody>\n",
       "    <tr>\n",
       "      <th>0</th>\n",
       "      <td>16795</td>\n",
       "      <td>2546.348835</td>\n",
       "      <td>8.895524</td>\n",
       "      <td>60.469143</td>\n",
       "    </tr>\n",
       "    <tr>\n",
       "      <th>1</th>\n",
       "      <td>1860</td>\n",
       "      <td>3020.684564</td>\n",
       "      <td>4.847446</td>\n",
       "      <td>33.014047</td>\n",
       "    </tr>\n",
       "    <tr>\n",
       "      <th>2</th>\n",
       "      <td>6390</td>\n",
       "      <td>2037.832261</td>\n",
       "      <td>5.212555</td>\n",
       "      <td>36.502435</td>\n",
       "    </tr>\n",
       "    <tr>\n",
       "      <th>3</th>\n",
       "      <td>12964</td>\n",
       "      <td>1847.173229</td>\n",
       "      <td>4.750055</td>\n",
       "      <td>31.040483</td>\n",
       "    </tr>\n",
       "    <tr>\n",
       "      <th>4</th>\n",
       "      <td>12284</td>\n",
       "      <td>2868.176001</td>\n",
       "      <td>8.617382</td>\n",
       "      <td>60.650668</td>\n",
       "    </tr>\n",
       "  </tbody>\n",
       "</table>\n",
       "</div>"
      ]
     },
     "execution_count": 529,
     "metadata": {},
     "output_type": "execute_result"
    }
   ],
   "execution_count": 529
  },
  {
   "metadata": {
    "ExecuteTime": {
     "end_time": "2025-02-17T23:17:32.735823Z",
     "start_time": "2025-02-17T23:17:32.732464Z"
    }
   },
   "cell_type": "code",
   "source": [
    "X = df.drop('health_score', axis=1)\n",
    "y = df['health_score']\n",
    "\n",
    "X_train, X_test, y_train, y_test = train_test_split(X, y, test_size=0.2, random_state=42)"
   ],
   "id": "8d73833d82f263d7",
   "outputs": [],
   "execution_count": 530
  },
  {
   "metadata": {
    "ExecuteTime": {
     "end_time": "2025-02-17T23:17:32.769809Z",
     "start_time": "2025-02-17T23:17:32.762757Z"
    }
   },
   "cell_type": "code",
   "source": [
    "scalar = StandardScaler()\n",
    "\n",
    "X_train = scalar.fit_transform(X_train)\n",
    "X_test = scalar.transform(X_test)\n",
    "\n",
    "X_train_tensor = torch.tensor(X_train, dtype=torch.float32)\n",
    "y_train_tensor = torch.tensor(y_train.values, dtype=torch.float32).view(-1, 1)\n",
    "\n",
    "X_test_tensor = torch.tensor(X_test, dtype=torch.float32)\n",
    "y_test_tensor = torch.tensor(y_test.values, dtype=torch.float32).view(-1, 1)\n",
    "\n",
    "X_train_tensor"
   ],
   "id": "ad4eb162db0eb2f2",
   "outputs": [
    {
     "data": {
      "text/plain": [
       "tensor([[ 0.4044,  0.4760,  0.8436],\n",
       "        [ 0.0682,  1.7618, -0.9887],\n",
       "        [-0.1995,  1.3446,  0.2374],\n",
       "        ...,\n",
       "        [-0.7099, -0.4851,  0.4493],\n",
       "        [ 1.2707,  0.3790,  0.5559],\n",
       "        [-1.6231, -1.1941, -0.1826]])"
      ]
     },
     "execution_count": 531,
     "metadata": {},
     "output_type": "execute_result"
    }
   ],
   "execution_count": 531
  },
  {
   "metadata": {
    "ExecuteTime": {
     "end_time": "2025-02-17T23:17:32.809741Z",
     "start_time": "2025-02-17T23:17:32.805808Z"
    }
   },
   "cell_type": "code",
   "source": [
    "import pandas as pd\n",
    "\n",
    "correlation_matrix = pd.DataFrame(X_train, columns=['steps', 'calories_burned', 'sleep_hours'])\n",
    "correlation_matrix['health_score'] = y_train.values\n",
    "\n",
    "print(correlation_matrix.corr())"
   ],
   "id": "68a2f2cd97c42a14",
   "outputs": [
    {
     "name": "stdout",
     "output_type": "stream",
     "text": [
      "                    steps  calories_burned  sleep_hours  health_score\n",
      "steps            1.000000        -0.065849    -0.076856      0.447322\n",
      "calories_burned -0.065849         1.000000     0.034754      0.713229\n",
      "sleep_hours     -0.076856         0.034754     1.000000      0.360362\n",
      "health_score     0.447322         0.713229     0.360362      1.000000\n"
     ]
    }
   ],
   "execution_count": 532
  },
  {
   "metadata": {
    "ExecuteTime": {
     "end_time": "2025-02-17T23:17:32.844827Z",
     "start_time": "2025-02-17T23:17:32.841460Z"
    }
   },
   "cell_type": "code",
   "source": [
    "class HealthDataset(Dataset):\n",
    "    def __init__(self, features, targets):\n",
    "        self.features = features\n",
    "        self.targets = targets\n",
    "\n",
    "    def __len__(self):\n",
    "        return len(self.features)\n",
    "\n",
    "    def __getitem__(self, idx):\n",
    "        return self.features[idx], self.targets[idx]\n",
    "\n",
    "train_dataset = HealthDataset(X_train_tensor, y_train_tensor)\n",
    "test_dataset = HealthDataset(X_test_tensor, y_test_tensor)\n",
    "\n",
    "train_loader = DataLoader(train_dataset, batch_size=32, shuffle=True)\n",
    "test_loader = DataLoader(test_dataset, batch_size=32, shuffle=False)"
   ],
   "id": "b080b0b528245f54",
   "outputs": [],
   "execution_count": 533
  },
  {
   "metadata": {
    "ExecuteTime": {
     "end_time": "2025-02-17T23:17:32.853042Z",
     "start_time": "2025-02-17T23:17:32.849607Z"
    }
   },
   "cell_type": "code",
   "source": [
    "import torch.nn as nn\n",
    "\n",
    "class HealthScoreNN(nn.Module):\n",
    "    def __init__(self, input_size):\n",
    "        super(HealthScoreNN, self).__init__()\n",
    "        self.fc = nn.Sequential(\n",
    "            nn.Linear(input_size, 64),\n",
    "            nn.Linear(64, 32),\n",
    "            nn.ReLU(),\n",
    "            # nn.Dropout(0.1),\n",
    "            nn.Linear(32, 16),\n",
    "            nn.ReLU(),\n",
    "            # nn.Dropout(0.1),\n",
    "            nn.Linear(16, 1)\n",
    "        )\n",
    "\n",
    "    def forward(self, x):\n",
    "        return self.fc(x)\n",
    "\n",
    "model = HealthScoreNN(input_size=3)\n",
    "\n",
    "# for name, param in model.named_parameters():\n",
    "#     print(f\"Parameter name: {name}, Shape: {param.shape}\")\n"
   ],
   "id": "29591a9b65380ba7",
   "outputs": [],
   "execution_count": 534
  },
  {
   "metadata": {
    "ExecuteTime": {
     "end_time": "2025-02-17T23:17:32.885594Z",
     "start_time": "2025-02-17T23:17:32.882990Z"
    }
   },
   "cell_type": "code",
   "source": [
    "import torch.optim as optim\n",
    "\n",
    "criterion = nn.MSELoss()\n",
    "optimizer = optim.Adam(model.parameters(), lr=0.001, weight_decay=1e-6)"
   ],
   "id": "2acbf00cc34d79c3",
   "outputs": [],
   "execution_count": 535
  },
  {
   "metadata": {
    "ExecuteTime": {
     "end_time": "2025-02-17T23:17:34.081077Z",
     "start_time": "2025-02-17T23:17:32.914140Z"
    }
   },
   "cell_type": "code",
   "source": [
    "epochs = 100\n",
    "epoch_loss = []\n",
    "\n",
    "for epoch in range(epochs):\n",
    "    model.train()\n",
    "    train_loss = []\n",
    "\n",
    "    for X_batch, y_batch in train_loader:\n",
    "        optimizer.zero_grad()\n",
    "        preds = model(X_batch)\n",
    "        loss = criterion(preds, y_batch)\n",
    "        loss.backward()\n",
    "        optimizer.step()\n",
    "        train_loss.append(loss.item())\n",
    "\n",
    "    avg_train_loss = sum(train_loss) / len(train_loader)\n",
    "    epoch_loss.append(avg_train_loss)\n",
    "    print(f\"Epoch {epoch + 1}/{epochs}, Train Loss: {avg_train_loss:.4f}\")"
   ],
   "id": "f06d2355fdc74675",
   "outputs": [
    {
     "name": "stdout",
     "output_type": "stream",
     "text": [
      "Epoch 1/100, Train Loss: 3305.8819\n",
      "Epoch 2/100, Train Loss: 3219.9907\n",
      "Epoch 3/100, Train Loss: 2968.1783\n",
      "Epoch 4/100, Train Loss: 2319.0955\n",
      "Epoch 5/100, Train Loss: 1171.0616\n",
      "Epoch 6/100, Train Loss: 247.8819\n",
      "Epoch 7/100, Train Loss: 42.4642\n",
      "Epoch 8/100, Train Loss: 25.4445\n",
      "Epoch 9/100, Train Loss: 25.5627\n",
      "Epoch 10/100, Train Loss: 25.3175\n",
      "Epoch 11/100, Train Loss: 25.3398\n",
      "Epoch 12/100, Train Loss: 25.4334\n",
      "Epoch 13/100, Train Loss: 25.4959\n",
      "Epoch 14/100, Train Loss: 25.4262\n",
      "Epoch 15/100, Train Loss: 25.4276\n",
      "Epoch 16/100, Train Loss: 25.4092\n",
      "Epoch 17/100, Train Loss: 25.3328\n",
      "Epoch 18/100, Train Loss: 25.3683\n",
      "Epoch 19/100, Train Loss: 25.3543\n",
      "Epoch 20/100, Train Loss: 25.4048\n",
      "Epoch 21/100, Train Loss: 25.5293\n",
      "Epoch 22/100, Train Loss: 25.3267\n",
      "Epoch 23/100, Train Loss: 25.4073\n",
      "Epoch 24/100, Train Loss: 25.5478\n",
      "Epoch 25/100, Train Loss: 25.4006\n",
      "Epoch 26/100, Train Loss: 25.4516\n",
      "Epoch 27/100, Train Loss: 25.5638\n",
      "Epoch 28/100, Train Loss: 25.8662\n",
      "Epoch 29/100, Train Loss: 25.4527\n",
      "Epoch 30/100, Train Loss: 25.4483\n",
      "Epoch 31/100, Train Loss: 25.4879\n",
      "Epoch 32/100, Train Loss: 25.6627\n",
      "Epoch 33/100, Train Loss: 25.3705\n",
      "Epoch 34/100, Train Loss: 25.5492\n",
      "Epoch 35/100, Train Loss: 25.8374\n",
      "Epoch 36/100, Train Loss: 25.4095\n",
      "Epoch 37/100, Train Loss: 25.3042\n",
      "Epoch 38/100, Train Loss: 25.3349\n",
      "Epoch 39/100, Train Loss: 25.5866\n",
      "Epoch 40/100, Train Loss: 25.4703\n",
      "Epoch 41/100, Train Loss: 25.2881\n",
      "Epoch 42/100, Train Loss: 25.3705\n",
      "Epoch 43/100, Train Loss: 25.5441\n",
      "Epoch 44/100, Train Loss: 25.3221\n",
      "Epoch 45/100, Train Loss: 25.3504\n",
      "Epoch 46/100, Train Loss: 25.5860\n",
      "Epoch 47/100, Train Loss: 25.3200\n",
      "Epoch 48/100, Train Loss: 25.3849\n",
      "Epoch 49/100, Train Loss: 25.3938\n",
      "Epoch 50/100, Train Loss: 25.6997\n",
      "Epoch 51/100, Train Loss: 25.5219\n",
      "Epoch 52/100, Train Loss: 25.4719\n",
      "Epoch 53/100, Train Loss: 25.8063\n",
      "Epoch 54/100, Train Loss: 25.5190\n",
      "Epoch 55/100, Train Loss: 25.7985\n",
      "Epoch 56/100, Train Loss: 25.7534\n",
      "Epoch 57/100, Train Loss: 25.3452\n",
      "Epoch 58/100, Train Loss: 25.4002\n",
      "Epoch 59/100, Train Loss: 25.9133\n",
      "Epoch 60/100, Train Loss: 25.5878\n",
      "Epoch 61/100, Train Loss: 25.4654\n",
      "Epoch 62/100, Train Loss: 25.6091\n",
      "Epoch 63/100, Train Loss: 25.5253\n",
      "Epoch 64/100, Train Loss: 25.4389\n",
      "Epoch 65/100, Train Loss: 25.4567\n",
      "Epoch 66/100, Train Loss: 25.3154\n",
      "Epoch 67/100, Train Loss: 25.4490\n",
      "Epoch 68/100, Train Loss: 25.6151\n",
      "Epoch 69/100, Train Loss: 25.9954\n",
      "Epoch 70/100, Train Loss: 25.4530\n",
      "Epoch 71/100, Train Loss: 25.4219\n",
      "Epoch 72/100, Train Loss: 26.0321\n",
      "Epoch 73/100, Train Loss: 26.4159\n",
      "Epoch 74/100, Train Loss: 25.3188\n",
      "Epoch 75/100, Train Loss: 25.2763\n",
      "Epoch 76/100, Train Loss: 25.6659\n",
      "Epoch 77/100, Train Loss: 25.9033\n",
      "Epoch 78/100, Train Loss: 25.5424\n",
      "Epoch 79/100, Train Loss: 25.4437\n",
      "Epoch 80/100, Train Loss: 25.3458\n",
      "Epoch 81/100, Train Loss: 25.6330\n",
      "Epoch 82/100, Train Loss: 25.6133\n",
      "Epoch 83/100, Train Loss: 25.6548\n",
      "Epoch 84/100, Train Loss: 25.5449\n",
      "Epoch 85/100, Train Loss: 25.3367\n",
      "Epoch 86/100, Train Loss: 25.5366\n",
      "Epoch 87/100, Train Loss: 25.5036\n",
      "Epoch 88/100, Train Loss: 25.3929\n",
      "Epoch 89/100, Train Loss: 25.6132\n",
      "Epoch 90/100, Train Loss: 25.6367\n",
      "Epoch 91/100, Train Loss: 25.3948\n",
      "Epoch 92/100, Train Loss: 25.6511\n",
      "Epoch 93/100, Train Loss: 25.6444\n",
      "Epoch 94/100, Train Loss: 25.5301\n",
      "Epoch 95/100, Train Loss: 25.3996\n",
      "Epoch 96/100, Train Loss: 25.4288\n",
      "Epoch 97/100, Train Loss: 25.5200\n",
      "Epoch 98/100, Train Loss: 25.3172\n",
      "Epoch 99/100, Train Loss: 25.4358\n",
      "Epoch 100/100, Train Loss: 25.8916\n"
     ]
    }
   ],
   "execution_count": 536
  },
  {
   "metadata": {
    "ExecuteTime": {
     "end_time": "2025-02-17T23:17:34.111145Z",
     "start_time": "2025-02-17T23:17:34.109303Z"
    }
   },
   "cell_type": "code",
   "source": "# plot_model_learning(model, X_train_tensor, y_train_tensor)\n",
   "id": "21602c9855256c62",
   "outputs": [],
   "execution_count": 537
  },
  {
   "metadata": {
    "ExecuteTime": {
     "end_time": "2025-02-17T23:17:34.144491Z",
     "start_time": "2025-02-17T23:17:34.139864Z"
    }
   },
   "cell_type": "code",
   "source": [
    "model.eval()\n",
    "\n",
    "test_loss = 0.0\n",
    "with torch.no_grad():\n",
    "    for X_batch, y_batch in test_loader:\n",
    "        preds = model(X_batch)\n",
    "        loss = criterion(preds, y_batch)\n",
    "        test_loss += loss.item()\n",
    "\n",
    "    test_loss = test_loss / len(test_loader)\n",
    "print(f\"Test Loss: {test_loss:.4f}\")"
   ],
   "id": "b86963d903a4397d",
   "outputs": [
    {
     "name": "stdout",
     "output_type": "stream",
     "text": [
      "Test Loss: 34.8091\n"
     ]
    }
   ],
   "execution_count": 538
  },
  {
   "metadata": {
    "ExecuteTime": {
     "end_time": "2025-02-17T23:17:34.232635Z",
     "start_time": "2025-02-17T23:17:34.173189Z"
    }
   },
   "cell_type": "code",
   "source": [
    "epochs = 100  # Number of epochs\n",
    "train_loss = [0.1 / (epoch + 1) for epoch in range(epochs)]  # Simulated training loss values\n",
    "\n",
    "# Correct plotting\n",
    "plt.figure(figsize=(8, 6))\n",
    "plt.plot(range(1, epochs + 1), train_loss, marker='o', label='Training Loss')\n",
    "plt.title('Training Loss Curve')\n",
    "plt.xlabel('Epoch')\n",
    "plt.ylabel('Loss')\n",
    "plt.legend()\n",
    "plt.grid()\n",
    "plt.show()\n"
   ],
   "id": "b8f30723f636201b",
   "outputs": [
    {
     "data": {
      "text/plain": [
       "<Figure size 800x600 with 1 Axes>"
      ],
      "image/png": "[encoded data removed]"
     },
     "metadata": {},
     "output_type": "display_data"
    }
   ],
   "execution_count": 539
  },
  {
   "metadata": {
    "ExecuteTime": {
     "end_time": "2025-02-17T23:44:59.812275Z",
     "start_time": "2025-02-17T23:44:59.792495Z"
    }
   },
   "cell_type": "code",
   "source": [
    "from sklearn.metrics import r2_score, mean_squared_error\n",
    "\n",
    "# Predict on the entire test set and calculate R2\n",
    "with torch.no_grad():\n",
    "    predictions = model(X_test_tensor).numpy()\n",
    "r2 = r2_score(y_test, predictions)\n",
    "mse = mean_squared_error(y_test, predictions)\n",
    "\n",
    "print(f\"R² Score: {r2:.4f}\")\n",
    "print(\"MSE:\", mse)\n",
    "\n",
    "X_test_tensor\n",
    "\n"
   ],
   "id": "393de5a64f565f82",
   "outputs": [
    {
     "name": "stdout",
     "output_type": "stream",
     "text": [
      "R² Score: 0.8964\n",
      "MSE: 29.051155471874246\n"
     ]
    },
    {
     "data": {
      "text/plain": [
       "tensor([[ 7.8303e-01,  1.6264e+00, -4.6884e-01],\n",
       "        [ 6.8661e-01, -1.0675e+00,  1.4388e+00],\n",
       "        [ 1.2112e+00, -4.5419e-01,  1.7422e-01],\n",
       "        [ 1.2834e-01,  1.3096e+00, -1.7587e+00],\n",
       "        [ 2.6330e-01,  1.1856e+00,  3.7306e-01],\n",
       "        [ 1.7469e-01,  5.5358e-01, -1.4295e+00],\n",
       "        [ 7.1285e-01, -1.3567e+00, -1.3163e-01],\n",
       "        [ 1.7991e-01,  1.3959e+00, -9.9924e-03],\n",
       "        [-6.3915e-01,  5.8012e-01,  4.7133e-01],\n",
       "        [-3.1562e-01, -1.5867e+00, -5.8285e-01],\n",
       "        [-1.0669e+00,  1.4476e+00,  7.6593e-01],\n",
       "        [-2.2627e-01,  1.2339e+00,  8.7095e-01],\n",
       "        [-8.1302e-01,  1.1781e+00,  1.5792e+00],\n",
       "        [-1.3891e+00,  6.4186e-01,  1.1498e+00],\n",
       "        [-9.3252e-01,  1.4499e+00,  1.1772e+00],\n",
       "        [-1.5651e+00,  1.1301e+00,  1.6002e-01],\n",
       "        [ 1.5157e+00,  1.6717e+00,  7.7792e-01],\n",
       "        [-1.1784e+00,  3.0364e-02,  1.4378e+00],\n",
       "        [ 1.5312e+00,  8.7537e-01,  5.5825e-01],\n",
       "        [ 7.7838e-01,  6.5820e-01, -9.9476e-01],\n",
       "        [-3.2363e-01, -1.6819e+00, -4.9826e-01],\n",
       "        [ 4.4070e-01, -3.7952e-01, -2.9701e-01],\n",
       "        [-1.4040e+00,  1.6937e+00, -9.0539e-02],\n",
       "        [-8.0259e-01,  1.5179e-01,  1.1493e+00],\n",
       "        [-3.3908e-01,  8.9730e-01, -2.1729e-01],\n",
       "        [-9.7441e-01,  9.1335e-01, -5.2143e-01],\n",
       "        [ 1.5247e+00,  1.6501e+00, -4.7574e-01],\n",
       "        [-7.4265e-01,  9.3224e-01,  7.0704e-01],\n",
       "        [-1.2618e+00,  1.5615e+00,  1.3240e+00],\n",
       "        [-1.0341e-01,  1.6664e+00, -1.1636e+00],\n",
       "        [ 1.4878e+00,  1.4877e+00, -1.6189e+00],\n",
       "        [ 8.0481e-01,  2.3100e-01, -1.4796e+00],\n",
       "        [-1.4835e+00,  1.8324e-01, -2.0249e-01],\n",
       "        [-1.4701e+00,  3.6284e-01,  1.1998e+00],\n",
       "        [-2.0319e-01,  1.4959e+00, -1.0172e+00],\n",
       "        [ 9.7998e-01, -1.3547e+00, -8.9536e-01],\n",
       "        [ 8.0909e-01,  1.2804e+00,  5.2627e-01],\n",
       "        [-1.9481e-01,  3.0695e-01, -7.3986e-01],\n",
       "        [ 2.4562e-01, -7.5112e-01, -1.1487e-01],\n",
       "        [-1.6866e+00,  1.1788e+00, -1.6991e+00],\n",
       "        [-1.2529e+00, -8.4654e-01,  1.5609e+00],\n",
       "        [ 1.0061e-01, -7.8471e-01,  1.4344e+00],\n",
       "        [-8.2679e-01,  9.9547e-01,  1.3280e+00],\n",
       "        [-7.5470e-03, -6.1770e-01,  1.3397e+00],\n",
       "        [-1.5706e+00, -1.2873e+00, -1.5119e+00],\n",
       "        [-1.5865e+00,  7.3969e-01,  7.0675e-01],\n",
       "        [-1.3830e+00, -3.6661e-01, -5.5133e-01],\n",
       "        [-8.7072e-01, -6.1673e-01, -1.5788e+00],\n",
       "        [-7.6648e-01, -1.1610e+00, -1.2074e+00],\n",
       "        [ 2.4450e-01, -2.1976e-02,  1.8496e-01],\n",
       "        [-1.3084e+00,  1.7332e+00, -1.1660e+00],\n",
       "        [-2.5289e-01, -1.5922e+00,  8.3772e-02],\n",
       "        [-8.5248e-01,  8.9855e-02, -6.1423e-01],\n",
       "        [ 1.6373e+00,  1.0826e+00,  1.6766e+00],\n",
       "        [-1.2052e+00,  1.2695e+00,  3.3130e-02],\n",
       "        [-1.0546e+00, -5.5040e-01,  5.6610e-01],\n",
       "        [-8.1227e-01, -1.1452e+00,  1.3968e+00],\n",
       "        [ 1.2661e+00,  8.1722e-01,  7.8498e-01],\n",
       "        [ 7.7337e-02,  1.1917e+00,  4.4271e-01],\n",
       "        [-1.0595e+00, -9.1744e-01, -2.0616e-01],\n",
       "        [ 2.8061e-01, -4.0534e-01,  4.8628e-01],\n",
       "        [-2.2944e-01, -2.4544e-01,  6.5099e-01],\n",
       "        [-1.4647e+00, -1.4290e+00, -3.4705e-01],\n",
       "        [ 1.9107e-01,  1.7707e+00, -4.9295e-01],\n",
       "        [ 1.4770e-01, -6.8894e-01, -1.6592e+00],\n",
       "        [-1.7063e+00, -2.3747e-01, -1.2519e+00],\n",
       "        [ 1.6846e+00, -1.0879e+00,  1.0622e+00],\n",
       "        [-1.5081e+00, -8.6050e-01,  1.3184e+00],\n",
       "        [-1.2110e-01, -7.9684e-01, -1.3554e+00],\n",
       "        [ 3.2641e-01, -1.3766e+00, -4.1173e-01],\n",
       "        [ 1.2495e+00, -2.7709e-01,  4.0295e-01],\n",
       "        [ 8.5358e-01,  7.7549e-02, -1.5454e+00],\n",
       "        [ 1.0954e+00,  1.7854e+00,  1.1681e+00],\n",
       "        [-4.6231e-01,  1.7930e+00,  1.2164e+00],\n",
       "        [ 3.4837e-01, -1.4449e+00, -6.8999e-01],\n",
       "        [ 6.8716e-01,  9.4449e-01, -1.6708e+00],\n",
       "        [-5.5241e-01,  3.2026e-01, -1.0849e+00],\n",
       "        [ 1.8828e-01, -9.6377e-01, -1.0277e+00],\n",
       "        [-6.0174e-01,  1.3346e+00, -1.2669e+00],\n",
       "        [-6.0230e-01,  1.0588e+00,  8.4558e-01],\n",
       "        [ 9.1259e-01, -1.1227e+00,  1.2247e+00],\n",
       "        [ 1.4967e+00,  8.1505e-01, -1.0531e+00],\n",
       "        [ 6.0433e-01,  1.5607e+00, -1.3880e+00],\n",
       "        [ 8.6480e-03, -1.3650e+00,  1.0733e+00],\n",
       "        [ 3.1114e-01,  1.7741e+00, -4.6679e-01],\n",
       "        [-1.0243e+00,  6.9342e-01,  1.1090e+00],\n",
       "        [-2.9385e-01,  9.4999e-01,  1.2936e+00],\n",
       "        [-1.1421e+00, -5.3183e-01, -7.7621e-01],\n",
       "        [-1.4178e+00, -1.7392e+00,  1.1393e+00],\n",
       "        [ 1.1386e+00,  1.1653e+00, -1.6844e+00],\n",
       "        [-1.2551e+00, -5.8571e-01, -1.7328e-01],\n",
       "        [-8.0890e-02, -1.5885e+00, -1.7711e+00],\n",
       "        [ 1.3580e+00, -8.4647e-01, -1.7551e+00],\n",
       "        [ 6.7990e-01, -3.7907e-01,  8.3948e-01],\n",
       "        [-1.3354e+00,  2.6925e-01, -1.6541e+00],\n",
       "        [ 1.5421e+00,  1.0411e+00, -1.6233e+00],\n",
       "        [-2.0577e-02,  6.4223e-01, -1.3536e-01],\n",
       "        [-5.6544e-01,  1.5089e+00, -1.0770e+00],\n",
       "        [-2.9645e-01, -1.5050e+00,  6.2498e-01],\n",
       "        [ 3.6028e-01,  1.3689e+00, -1.5143e+00],\n",
       "        [-1.9909e-01,  3.9944e-01, -1.3638e+00],\n",
       "        [-6.0918e-01, -6.3535e-01, -9.9607e-01],\n",
       "        [ 5.6302e-02, -1.4501e+00,  1.5399e+00],\n",
       "        [-1.3131e-02, -1.3547e+00, -1.6768e+00],\n",
       "        [-8.5341e-01,  1.0817e-01, -1.6719e+00],\n",
       "        [ 9.6173e-01, -4.1226e-02,  4.0770e-01],\n",
       "        [ 1.0453e+00,  1.0993e-01,  1.0647e-01],\n",
       "        [ 7.0280e-01, -1.5883e+00, -6.8764e-02],\n",
       "        [-2.6890e-01,  1.3709e+00,  9.6673e-02],\n",
       "        [ 4.5038e-01, -1.6086e+00,  1.3990e+00],\n",
       "        [ 3.3162e-01,  1.0339e+00,  5.7066e-02],\n",
       "        [ 1.8098e+00, -1.3101e+00, -1.3238e+00],\n",
       "        [-4.7962e-01, -6.0655e-01, -2.8751e-01],\n",
       "        [-1.6728e+00,  6.2357e-01,  1.2548e+00],\n",
       "        [-6.1979e-01,  1.2303e+00,  7.7901e-01],\n",
       "        [ 1.7994e+00, -2.2698e-02,  1.2624e+00],\n",
       "        [-1.1747e+00, -3.2863e-01, -1.3915e+00],\n",
       "        [-1.2108e+00,  5.1615e-01,  1.1240e+00],\n",
       "        [-6.6577e-01, -1.6222e+00,  1.5809e+00],\n",
       "        [-1.1565e+00,  2.4534e-01,  5.7747e-01],\n",
       "        [-6.4083e-01,  1.3102e+00,  1.5473e+00],\n",
       "        [ 3.9398e-01,  4.3399e-01, -4.0702e-01],\n",
       "        [-1.3618e+00, -1.6874e+00, -7.3051e-01],\n",
       "        [ 6.9331e-01,  1.3931e+00,  1.5859e+00],\n",
       "        [-1.4899e+00,  1.4358e+00,  1.0568e+00],\n",
       "        [ 1.5053e+00, -1.2337e+00,  1.5765e+00],\n",
       "        [-1.6414e+00,  6.2594e-01,  7.6032e-01],\n",
       "        [ 2.4134e-01,  4.4393e-01,  5.5307e-01],\n",
       "        [ 3.7946e-01, -1.2683e+00,  1.1495e+00],\n",
       "        [ 1.1978e-01, -1.6623e+00,  1.0670e+00],\n",
       "        [ 5.8013e-01,  1.4587e+00,  7.9931e-01],\n",
       "        [ 3.7685e-01,  5.0592e-01,  6.7585e-01],\n",
       "        [ 1.7437e+00,  1.8827e-01,  8.4673e-01],\n",
       "        [ 1.6222e-01, -1.2083e+00, -3.9270e-01],\n",
       "        [ 8.6028e-01,  7.6241e-01,  1.1306e+00],\n",
       "        [ 8.7575e-02, -1.2737e+00, -1.5958e+00],\n",
       "        [ 3.1635e-01,  1.0631e+00, -8.0118e-01],\n",
       "        [-8.7910e-01,  1.2074e+00, -1.1330e+00],\n",
       "        [-1.1572e+00,  1.3701e+00,  1.1245e+00],\n",
       "        [-7.3446e-01, -8.5286e-01, -9.6322e-01],\n",
       "        [ 5.5556e-01,  1.7571e+00, -1.6779e+00],\n",
       "        [ 9.5894e-01,  1.5661e+00, -1.3552e+00],\n",
       "        [ 1.7011e+00,  5.4891e-01,  1.2698e+00],\n",
       "        [-1.1628e+00, -8.9946e-02, -1.1173e+00],\n",
       "        [ 5.7268e-01, -3.4957e-01,  3.6749e-01],\n",
       "        [-6.0732e-01,  1.7674e+00,  2.7533e-02],\n",
       "        [ 9.3251e-01, -1.2491e+00, -1.6697e+00],\n",
       "        [ 1.5278e+00,  1.2840e+00, -6.7358e-01],\n",
       "        [-1.9723e-01,  1.0159e+00, -1.0187e+00],\n",
       "        [ 3.2473e-01,  5.5702e-01, -1.3330e+00],\n",
       "        [-2.3837e-01, -1.0432e+00,  4.3729e-02],\n",
       "        [ 8.8001e-01,  1.4025e-01, -1.1458e+00],\n",
       "        [-1.3296e+00,  1.8911e-01, -1.6832e+00],\n",
       "        [-1.5811e+00,  4.7790e-01, -7.9490e-01],\n",
       "        [ 1.4331e+00,  1.7238e+00,  9.3257e-01],\n",
       "        [-9.0497e-01, -1.0204e+00,  1.2100e-01],\n",
       "        [ 2.6535e-01,  9.9500e-01, -9.7391e-01],\n",
       "        [ 4.2022e-01,  1.5835e-01,  1.1891e-01],\n",
       "        [-9.1670e-01,  1.3811e-01, -6.6514e-01],\n",
       "        [-1.0174e+00, -7.9854e-01, -5.9650e-02],\n",
       "        [ 7.8824e-01,  5.6746e-01,  2.9219e-01],\n",
       "        [-1.0472e-01,  1.0556e+00, -1.4161e+00],\n",
       "        [ 5.2000e-01,  6.3704e-01,  4.8401e-02],\n",
       "        [ 5.6077e-01,  1.5590e+00,  9.6358e-01],\n",
       "        [ 2.9178e-01,  1.6806e+00,  3.6343e-01],\n",
       "        [ 3.8951e-01, -1.4344e+00,  7.2083e-01],\n",
       "        [ 5.6356e-01,  1.1649e+00, -1.5272e+00],\n",
       "        [ 1.5708e+00,  1.1324e+00,  1.2055e+00],\n",
       "        [ 5.2447e-01, -6.1155e-02,  1.2429e+00],\n",
       "        [-9.4107e-02,  1.6219e+00,  1.0120e+00],\n",
       "        [ 1.4373e+00, -1.1779e+00,  5.7865e-02],\n",
       "        [-4.5058e-01,  1.0735e+00,  5.3286e-02],\n",
       "        [ 5.8850e-01, -1.1051e-01,  1.3645e+00],\n",
       "        [ 5.8087e-01,  8.4257e-01, -6.5052e-01],\n",
       "        [ 4.2711e-01,  1.2264e+00, -1.4867e+00],\n",
       "        [ 1.3072e+00, -1.4198e+00, -7.9238e-01],\n",
       "        [ 1.1940e+00,  1.4856e-01,  5.9541e-01],\n",
       "        [-3.9937e-02, -1.5251e+00, -4.6844e-01],\n",
       "        [-4.0591e-01, -9.4919e-01,  1.0103e-01],\n",
       "        [ 1.8160e+00,  1.0763e+00, -1.7573e+00],\n",
       "        [ 6.6727e-02, -2.7625e-01, -4.3952e-01],\n",
       "        [-8.2735e-01, -4.1666e-01,  5.9730e-01],\n",
       "        [ 7.5846e-01, -8.6419e-01,  1.5249e+00],\n",
       "        [-1.3718e+00, -4.7626e-01, -1.4284e+00],\n",
       "        [ 1.7410e+00, -8.0079e-01, -7.7215e-01],\n",
       "        [-6.8718e-01,  3.4631e-01, -6.8905e-01],\n",
       "        [ 1.6430e+00, -1.0318e+00,  1.2533e+00],\n",
       "        [-1.0943e+00, -1.3178e-01, -8.5291e-01],\n",
       "        [-1.4141e+00,  6.2728e-01, -4.7549e-01],\n",
       "        [ 9.4107e-01, -1.1380e+00, -1.3774e+00],\n",
       "        [-1.0464e+00, -4.4523e-02,  3.8313e-04],\n",
       "        [-2.9326e-02, -1.7425e+00, -1.1502e+00],\n",
       "        [-5.5539e-01,  1.7264e+00, -1.6257e+00],\n",
       "        [ 1.3821e+00, -3.5228e-01,  1.4932e+00],\n",
       "        [ 1.7531e+00,  1.2329e+00, -2.5401e-01],\n",
       "        [ 7.9252e-01,  1.5438e-01, -1.5528e-01],\n",
       "        [ 1.2579e+00,  1.6112e+00,  1.0764e+00],\n",
       "        [-3.8413e-01,  1.4671e+00,  9.8069e-01],\n",
       "        [ 1.7767e-01,  1.9504e-01,  2.7203e-02],\n",
       "        [-1.3393e+00,  9.9521e-01, -7.4347e-01]])"
      ]
     },
     "execution_count": 542,
     "metadata": {},
     "output_type": "execute_result"
    }
   ],
   "execution_count": 542
  },
  {
   "metadata": {
    "ExecuteTime": {
     "end_time": "2025-02-18T03:55:25.137739Z",
     "start_time": "2025-02-18T03:55:25.121815Z"
    }
   },
   "cell_type": "code",
   "source": [
    "torch.save(model, \"models/health_score_model.pth\")\n",
    "\n",
    "model = torch.load(\"models/health_score_model.pth\")\n",
    "model.eval()\n",
    "\n"
   ],
   "id": "40793cf978c41e6a",
   "outputs": [
    {
     "data": {
      "text/plain": [
       "HealthScoreNN(\n",
       "  (fc): Sequential(\n",
       "    (0): Linear(in_features=3, out_features=64, bias=True)\n",
       "    (1): Linear(in_features=64, out_features=32, bias=True)\n",
       "    (2): ReLU()\n",
       "    (3): Linear(in_features=32, out_features=16, bias=True)\n",
       "    (4): ReLU()\n",
       "    (5): Linear(in_features=16, out_features=1, bias=True)\n",
       "  )\n",
       ")"
      ]
     },
     "execution_count": 545,
     "metadata": {},
     "output_type": "execute_result"
    }
   ],
   "execution_count": 545
  },
  {
   "metadata": {
    "ExecuteTime": {
     "end_time": "2025-02-18T03:55:50.404801Z",
     "start_time": "2025-02-18T03:55:50.399780Z"
    }
   },
   "cell_type": "code",
   "source": [
    "saved_object = torch.load('models/health_score_model.pth')\n",
    "print(type(saved_object))\n"
   ],
   "id": "262bd4b3b6016e2b",
   "outputs": [
    {
     "name": "stdout",
     "output_type": "stream",
     "text": [
      "<class '__main__.HealthScoreNN'>\n"
     ]
    }
   ],
   "execution_count": 546
  },
  {
   "metadata": {
    "ExecuteTime": {
     "end_time": "2025-02-18T03:58:04.731527Z",
     "start_time": "2025-02-18T03:58:04.728332Z"
    }
   },
   "cell_type": "code",
   "source": "print(model(torch.tensor([[22, 2223, 3]], dtype=torch.float32)))",
   "id": "34f84568f72bcb61",
   "outputs": [
    {
     "name": "stdout",
     "output_type": "stream",
     "text": [
      "tensor([[0.2256]], grad_fn=<AddmmBackward0>)\n"
     ]
    }
   ],
   "execution_count": 558
  },
  {
   "metadata": {},
   "cell_type": "code",
   "outputs": [],
   "execution_count": null,
   "source": "",
   "id": "ab0c865148776869"
  }
 ],
 "metadata": {
  "kernelspec": {
   "display_name": "Python [conda env:mds574]",
   "language": "python",
   "name": "conda-env-mds574-py"
  },
  "language_info": {
   "codemirror_mode": {
    "name": "ipython",
    "version": 2
   },
   "file_extension": ".py",
   "mimetype": "text/x-python",
   "name": "python",
   "nbconvert_exporter": "python",
   "pygments_lexer": "ipython2",
   "version": "2.7.6"
  }
 },
 "nbformat": 4,
 "nbformat_minor": 5
}
