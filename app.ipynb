{
 "cells": [
  {
   "cell_type": "code",
   "id": "initial_id",
   "metadata": {
    "collapsed": true,
    "ExecuteTime": {
     "end_time": "2025-02-17T23:12:16.793912Z",
     "start_time": "2025-02-17T23:12:16.791016Z"
    }
   },
   "source": [
    "import pandas as pd\n",
    "import numpy as np\n",
    "from sklearn.model_selection import train_test_split\n",
    "from sklearn.preprocessing import StandardScaler\n",
    "import torch\n",
    "from torch.utils.data import Dataset, DataLoader\n",
    "# import torch_summary as summary"
   ],
   "outputs": [],
   "execution_count": 494
  },
  {
   "metadata": {
    "ExecuteTime": {
     "end_time": "2025-02-17T23:12:16.838573Z",
     "start_time": "2025-02-17T23:12:16.831899Z"
    }
   },
   "cell_type": "code",
   "source": [
    "import numpy as np\n",
    "import plotly.graph_objects as go\n",
    "import torch\n",
    "\n",
    "\n",
    "def plot_model_learning(\n",
    "        model, x, y, x_range=[-3, 3], y_range=[-150, 150], dx=1, dy=30\n",
    "):\n",
    "    \"\"\"\n",
    "    Visualize a dataset and the model's predictions, showing how the model fits the dataset.\n",
    "\n",
    "    Parameters:\n",
    "        model: Trained PyTorch model to generate predictions\n",
    "        x: Input data (numpy array or torch tensor)\n",
    "        y: True target values (numpy array or torch tensor)\n",
    "        x_range: x-axis range [min, max] (default: [-3, 3])\n",
    "        y_range: y-axis range [min, max] (default: [-150, 150])\n",
    "        dx: Tick interval for x-axis\n",
    "        dy: Tick interval for y-axis\n",
    "    Returns:\n",
    "        fig: A Plotly interactive figure\n",
    "    \"\"\"\n",
    "\n",
    "    # Ensure `x` and `y` are numpy arrays for plotting\n",
    "    if isinstance(x, torch.Tensor):\n",
    "        x = x.detach().numpy()\n",
    "    if isinstance(y, torch.Tensor):\n",
    "        y = y.detach().numpy()\n",
    "\n",
    "    # Generate predictions from the model\n",
    "    with torch.no_grad():\n",
    "        x_tensor = torch.tensor(x, dtype=torch.float32)\n",
    "        y_hat = model(x_tensor).detach().numpy()\n",
    "\n",
    "    # Create the plot\n",
    "    fig = go.Figure()\n",
    "\n",
    "    # Plot the true data points\n",
    "    fig.add_trace(\n",
    "        go.Scatter(x=x.flatten(), y=y.flatten(), mode=\"markers\",\n",
    "                   marker=dict(size=10, color=\"blue\"),\n",
    "                   name=\"True Data\")\n",
    "    )\n",
    "\n",
    "    # Plot the model's predictions\n",
    "    fig.add_trace(\n",
    "        go.Scatter(\n",
    "            x=x.flatten(),\n",
    "            y=y_hat.flatten(),\n",
    "            mode=\"lines\",\n",
    "            line=dict(width=3, color=\"red\"),\n",
    "            name=\"Model Prediction\",\n",
    "        )\n",
    "    )\n",
    "\n",
    "    # Customize layout\n",
    "    fig.update_layout(\n",
    "        width=600,\n",
    "        height=500,\n",
    "        title=\"Model Learning Visualization\",\n",
    "        title_x=0.5,\n",
    "        xaxis_title=\"Input (x)\",\n",
    "        yaxis_title=\"Output (y)\",\n",
    "        margin=dict(t=60),\n",
    "    )\n",
    "    fig.update_xaxes(range=x_range, tick0=x_range[0], dtick=dx)\n",
    "    fig.update_yaxes(range=y_range, tick0=y_range[0], dtick=dy)\n",
    "\n",
    "    return fig\n",
    "\n",
    "\n",
    "\n",
    "def plot_dataset(x, y, x_range=None, y_range=None, dx=1, dy=30):\n",
    "    \"\"\"\n",
    "    Plot a dataset (x, y) without any predictions.\n",
    "\n",
    "    Parameters:\n",
    "        x: Input data (numpy array or torch tensor).\n",
    "        y: Output/target values (numpy array or torch tensor).\n",
    "        x_range: x-axis range [min, max]. If None, it adapts automatically.\n",
    "        y_range: y-axis range [min, max]. If None, it adapts automatically.\n",
    "        dx: Tick interval for x-axis.\n",
    "        dy: Tick interval for y-axis.\n",
    "    Returns:\n",
    "        fig: A Plotly interactive figure.\n",
    "    \"\"\"\n",
    "    # Ensure `x` and `y` are numpy arrays for easier plotting\n",
    "    if isinstance(x, torch.Tensor):\n",
    "        x = x.detach().numpy()\n",
    "    if isinstance(y, torch.Tensor):\n",
    "        y = y.detach().numpy()\n",
    "\n",
    "    # Create the plot\n",
    "    fig = go.Figure()\n",
    "\n",
    "    # Add data points as a scatter plot\n",
    "    fig.add_trace(\n",
    "        go.Scatter(\n",
    "            x=x.flatten(),\n",
    "            y=y.flatten(),\n",
    "            mode=\"markers\",\n",
    "            marker=dict(size=10, color=\"blue\"),\n",
    "            name=\"Data Points\"\n",
    "        )\n",
    "    )\n",
    "\n",
    "    # Customize layout\n",
    "    fig.update_layout(\n",
    "        width=600,\n",
    "        height=500,\n",
    "        title=\"Dataset Scatter Plot\",\n",
    "        title_x=0.5,\n",
    "        xaxis_title=\"Input (x)\",\n",
    "        yaxis_title=\"Output (y)\",\n",
    "        margin=dict(t=60),\n",
    "    )\n",
    "\n",
    "    # Set axis ranges if provided; otherwise, let Plotly auto-scale\n",
    "    if x_range is not None:\n",
    "        fig.update_xaxes(range=x_range, tick0=x_range[0], dtick=dx)\n",
    "    if y_range is not None:\n",
    "        fig.update_yaxes(range=y_range, tick0=y_range[0], dtick=dy)\n",
    "\n",
    "    return fig\n",
    "\n"
   ],
   "id": "bcc5799b680d8456",
   "outputs": [],
   "execution_count": 495
  },
  {
   "metadata": {
    "ExecuteTime": {
     "end_time": "2025-02-17T23:12:16.909807Z",
     "start_time": "2025-02-17T23:12:16.901008Z"
    }
   },
   "cell_type": "code",
   "source": [
    "np.random.seed(42)\n",
    "\n",
    "steps = np.random.randint(1000, 20000, 1000)\n",
    "calories_burned = np.random.uniform(1200, 4500, 1000)\n",
    "sleep_hours = np.random.uniform(4, 12, 1000)\n",
    "\n",
    "health_score = (\n",
    "    0.3 * (steps / 20000) * 100 +\n",
    "    0.4 * ((calories_burned - 1200) / (4500 - 1200)) * 100 +\n",
    "    0.3 * (sleep_hours / 12) * 100\n",
    ")\n",
    "\n",
    "health_score += np.random.normal(0, 5, 1000)\n",
    "\n",
    "df = pd.DataFrame({\n",
    "    'steps': steps,\n",
    "    'calories_burned': calories_burned,\n",
    "    'sleep_hours': sleep_hours,\n",
    "    'health_score': health_score\n",
    "})\n",
    "\n",
    "print(df.corr())\n",
    "\n",
    "df.head()"
   ],
   "id": "20ddc8828c756724",
   "outputs": [
    {
     "name": "stdout",
     "output_type": "stream",
     "text": [
      "                    steps  calories_burned  sleep_hours  health_score\n",
      "steps            1.000000        -0.049403    -0.058327      0.450064\n",
      "calories_burned -0.049403         1.000000     0.023884      0.721397\n",
      "sleep_hours     -0.058327         0.023884     1.000000      0.360569\n",
      "health_score     0.450064         0.721397     0.360569      1.000000\n"
     ]
    },
    {
     "data": {
      "text/plain": [
       "   steps  calories_burned  sleep_hours  health_score\n",
       "0  16795      2546.348835     8.895524     60.469143\n",
       "1   1860      3020.684564     4.847446     33.014047\n",
       "2   6390      2037.832261     5.212555     36.502435\n",
       "3  12964      1847.173229     4.750055     31.040483\n",
       "4  12284      2868.176001     8.617382     60.650668"
      ],
      "text/html": [
       "<div>\n",
       "<style scoped>\n",
       "    .dataframe tbody tr th:only-of-type {\n",
       "        vertical-align: middle;\n",
       "    }\n",
       "\n",
       "    .dataframe tbody tr th {\n",
       "        vertical-align: top;\n",
       "    }\n",
       "\n",
       "    .dataframe thead th {\n",
       "        text-align: right;\n",
       "    }\n",
       "</style>\n",
       "<table border=\"1\" class=\"dataframe\">\n",
       "  <thead>\n",
       "    <tr style=\"text-align: right;\">\n",
       "      <th></th>\n",
       "      <th>steps</th>\n",
       "      <th>calories_burned</th>\n",
       "      <th>sleep_hours</th>\n",
       "      <th>health_score</th>\n",
       "    </tr>\n",
       "  </thead>\n",
       "  <tbody>\n",
       "    <tr>\n",
       "      <th>0</th>\n",
       "      <td>16795</td>\n",
       "      <td>2546.348835</td>\n",
       "      <td>8.895524</td>\n",
       "      <td>60.469143</td>\n",
       "    </tr>\n",
       "    <tr>\n",
       "      <th>1</th>\n",
       "      <td>1860</td>\n",
       "      <td>3020.684564</td>\n",
       "      <td>4.847446</td>\n",
       "      <td>33.014047</td>\n",
       "    </tr>\n",
       "    <tr>\n",
       "      <th>2</th>\n",
       "      <td>6390</td>\n",
       "      <td>2037.832261</td>\n",
       "      <td>5.212555</td>\n",
       "      <td>36.502435</td>\n",
       "    </tr>\n",
       "    <tr>\n",
       "      <th>3</th>\n",
       "      <td>12964</td>\n",
       "      <td>1847.173229</td>\n",
       "      <td>4.750055</td>\n",
       "      <td>31.040483</td>\n",
       "    </tr>\n",
       "    <tr>\n",
       "      <th>4</th>\n",
       "      <td>12284</td>\n",
       "      <td>2868.176001</td>\n",
       "      <td>8.617382</td>\n",
       "      <td>60.650668</td>\n",
       "    </tr>\n",
       "  </tbody>\n",
       "</table>\n",
       "</div>"
      ]
     },
     "execution_count": 496,
     "metadata": {},
     "output_type": "execute_result"
    }
   ],
   "execution_count": 496
  },
  {
   "metadata": {
    "ExecuteTime": {
     "end_time": "2025-02-17T23:12:16.963025Z",
     "start_time": "2025-02-17T23:12:16.959478Z"
    }
   },
   "cell_type": "code",
   "source": [
    "X = df.drop('health_score', axis=1)\n",
    "y = df['health_score']\n",
    "\n",
    "X_train, X_test, y_train, y_test = train_test_split(X, y, test_size=0.2, random_state=42)"
   ],
   "id": "8d73833d82f263d7",
   "outputs": [],
   "execution_count": 497
  },
  {
   "metadata": {
    "ExecuteTime": {
     "end_time": "2025-02-17T23:12:16.997096Z",
     "start_time": "2025-02-17T23:12:16.990252Z"
    }
   },
   "cell_type": "code",
   "source": [
    "scalar = StandardScaler()\n",
    "\n",
    "X_train = scalar.fit_transform(X_train)\n",
    "X_test = scalar.transform(X_test)\n",
    "\n",
    "X_train_tensor = torch.tensor(X_train, dtype=torch.float32)\n",
    "y_train_tensor = torch.tensor(y_train.values, dtype=torch.float32).view(-1, 1)\n",
    "\n",
    "X_test_tensor = torch.tensor(X_test, dtype=torch.float32)\n",
    "y_test_tensor = torch.tensor(y_test.values, dtype=torch.float32).view(-1, 1)\n",
    "\n",
    "X_train_tensor"
   ],
   "id": "ad4eb162db0eb2f2",
   "outputs": [
    {
     "data": {
      "text/plain": [
       "tensor([[ 0.4044,  0.4760,  0.8436],\n",
       "        [ 0.0682,  1.7618, -0.9887],\n",
       "        [-0.1995,  1.3446,  0.2374],\n",
       "        ...,\n",
       "        [-0.7099, -0.4851,  0.4493],\n",
       "        [ 1.2707,  0.3790,  0.5559],\n",
       "        [-1.6231, -1.1941, -0.1826]])"
      ]
     },
     "execution_count": 498,
     "metadata": {},
     "output_type": "execute_result"
    }
   ],
   "execution_count": 498
  },
  {
   "metadata": {
    "ExecuteTime": {
     "end_time": "2025-02-17T23:12:17.033839Z",
     "start_time": "2025-02-17T23:12:17.030064Z"
    }
   },
   "cell_type": "code",
   "source": [
    "import pandas as pd\n",
    "\n",
    "correlation_matrix = pd.DataFrame(X_train, columns=['steps', 'calories_burned', 'sleep_hours'])\n",
    "correlation_matrix['health_score'] = y_train.values\n",
    "\n",
    "print(correlation_matrix.corr())"
   ],
   "id": "68a2f2cd97c42a14",
   "outputs": [
    {
     "name": "stdout",
     "output_type": "stream",
     "text": [
      "                    steps  calories_burned  sleep_hours  health_score\n",
      "steps            1.000000        -0.065849    -0.076856      0.447322\n",
      "calories_burned -0.065849         1.000000     0.034754      0.713229\n",
      "sleep_hours     -0.076856         0.034754     1.000000      0.360362\n",
      "health_score     0.447322         0.713229     0.360362      1.000000\n"
     ]
    }
   ],
   "execution_count": 499
  },
  {
   "metadata": {
    "ExecuteTime": {
     "end_time": "2025-02-17T23:12:17.068687Z",
     "start_time": "2025-02-17T23:12:17.065069Z"
    }
   },
   "cell_type": "code",
   "source": [
    "class HealthDataset(Dataset):\n",
    "    def __init__(self, features, targets):\n",
    "        self.features = features\n",
    "        self.targets = targets\n",
    "\n",
    "    def __len__(self):\n",
    "        return len(self.features)\n",
    "\n",
    "    def __getitem__(self, idx):\n",
    "        return self.features[idx], self.targets[idx]\n",
    "\n",
    "train_dataset = HealthDataset(X_train_tensor, y_train_tensor)\n",
    "test_dataset = HealthDataset(X_test_tensor, y_test_tensor)\n",
    "\n",
    "train_loader = DataLoader(train_dataset, batch_size=32, shuffle=True)\n",
    "test_loader = DataLoader(test_dataset, batch_size=32, shuffle=False)"
   ],
   "id": "b080b0b528245f54",
   "outputs": [],
   "execution_count": 500
  },
  {
   "metadata": {
    "ExecuteTime": {
     "end_time": "2025-02-17T23:12:17.081351Z",
     "start_time": "2025-02-17T23:12:17.077636Z"
    }
   },
   "cell_type": "code",
   "source": [
    "import torch.nn as nn\n",
    "\n",
    "class HealthScoreNN(nn.Module):\n",
    "    def __init__(self, input_size):\n",
    "        super(HealthScoreNN, self).__init__()\n",
    "        self.fc = nn.Sequential(\n",
    "            nn.Linear(input_size, 64),\n",
    "            nn.Linear(64, 32),\n",
    "            nn.ReLU(),\n",
    "            # nn.Dropout(0.1),\n",
    "            nn.Linear(32, 16),\n",
    "            nn.ReLU(),\n",
    "            # nn.Dropout(0.1),\n",
    "            nn.Linear(16, 1)\n",
    "        )\n",
    "\n",
    "    def forward(self, x):\n",
    "        return self.fc(x)\n",
    "\n",
    "model = HealthScoreNN(input_size=3)\n",
    "\n",
    "# for name, param in model.named_parameters():\n",
    "#     print(f\"Parameter name: {name}, Shape: {param.shape}\")\n"
   ],
   "id": "29591a9b65380ba7",
   "outputs": [],
   "execution_count": 501
  },
  {
   "metadata": {
    "ExecuteTime": {
     "end_time": "2025-02-17T23:12:17.116615Z",
     "start_time": "2025-02-17T23:12:17.113721Z"
    }
   },
   "cell_type": "code",
   "source": [
    "import torch.optim as optim\n",
    "\n",
    "criterion = nn.MSELoss()\n",
    "optimizer = optim.Adam(model.parameters(), lr=0.001, weight_decay=1e-6)"
   ],
   "id": "2acbf00cc34d79c3",
   "outputs": [],
   "execution_count": 502
  },
  {
   "metadata": {
    "ExecuteTime": {
     "end_time": "2025-02-17T23:12:18.380019Z",
     "start_time": "2025-02-17T23:12:17.148508Z"
    }
   },
   "cell_type": "code",
   "source": [
    "epochs = 100\n",
    "epoch_loss = []\n",
    "\n",
    "for epoch in range(epochs):\n",
    "    model.train()\n",
    "    train_loss = []\n",
    "\n",
    "    for X_batch, y_batch in train_loader:\n",
    "        optimizer.zero_grad()\n",
    "        preds = model(X_batch)\n",
    "        loss = criterion(preds, y_batch)\n",
    "        loss.backward()\n",
    "        optimizer.step()\n",
    "        train_loss.append(loss.item())\n",
    "\n",
    "    avg_train_loss = sum(train_loss) / len(train_loader)\n",
    "    epoch_loss.append(avg_train_loss)\n",
    "    print(f\"Epoch {epoch + 1}/{epochs}, Train Loss: {avg_train_loss:.4f}\")"
   ],
   "id": "f06d2355fdc74675",
   "outputs": [
    {
     "name": "stdout",
     "output_type": "stream",
     "text": [
      "Epoch 1/100, Train Loss: 3260.4301\n",
      "Epoch 2/100, Train Loss: 3178.6766\n",
      "Epoch 3/100, Train Loss: 2912.4034\n",
      "Epoch 4/100, Train Loss: 2207.1711\n",
      "Epoch 5/100, Train Loss: 995.9270\n",
      "Epoch 6/100, Train Loss: 127.3984\n",
      "Epoch 7/100, Train Loss: 29.6466\n",
      "Epoch 8/100, Train Loss: 25.6790\n",
      "Epoch 9/100, Train Loss: 25.3789\n",
      "Epoch 10/100, Train Loss: 25.4061\n",
      "Epoch 11/100, Train Loss: 25.4509\n",
      "Epoch 12/100, Train Loss: 25.3969\n",
      "Epoch 13/100, Train Loss: 25.4141\n",
      "Epoch 14/100, Train Loss: 25.4654\n",
      "Epoch 15/100, Train Loss: 25.5279\n",
      "Epoch 16/100, Train Loss: 25.4534\n",
      "Epoch 17/100, Train Loss: 25.4220\n",
      "Epoch 18/100, Train Loss: 25.4165\n",
      "Epoch 19/100, Train Loss: 25.4422\n",
      "Epoch 20/100, Train Loss: 25.3682\n",
      "Epoch 21/100, Train Loss: 25.3776\n",
      "Epoch 22/100, Train Loss: 25.3920\n",
      "Epoch 23/100, Train Loss: 25.4532\n",
      "Epoch 24/100, Train Loss: 25.5914\n",
      "Epoch 25/100, Train Loss: 25.6521\n",
      "Epoch 26/100, Train Loss: 25.5718\n",
      "Epoch 27/100, Train Loss: 25.4068\n",
      "Epoch 28/100, Train Loss: 25.4080\n",
      "Epoch 29/100, Train Loss: 25.4103\n",
      "Epoch 30/100, Train Loss: 25.4570\n",
      "Epoch 31/100, Train Loss: 25.5697\n",
      "Epoch 32/100, Train Loss: 25.3365\n",
      "Epoch 33/100, Train Loss: 25.6311\n",
      "Epoch 34/100, Train Loss: 25.4233\n",
      "Epoch 35/100, Train Loss: 25.3633\n",
      "Epoch 36/100, Train Loss: 25.4022\n",
      "Epoch 37/100, Train Loss: 25.4430\n",
      "Epoch 38/100, Train Loss: 25.3718\n",
      "Epoch 39/100, Train Loss: 25.4248\n",
      "Epoch 40/100, Train Loss: 25.6543\n",
      "Epoch 41/100, Train Loss: 25.6367\n",
      "Epoch 42/100, Train Loss: 25.5747\n",
      "Epoch 43/100, Train Loss: 25.3997\n",
      "Epoch 44/100, Train Loss: 25.6188\n",
      "Epoch 45/100, Train Loss: 25.7350\n",
      "Epoch 46/100, Train Loss: 25.4737\n",
      "Epoch 47/100, Train Loss: 25.4553\n",
      "Epoch 48/100, Train Loss: 25.4651\n",
      "Epoch 49/100, Train Loss: 25.4820\n",
      "Epoch 50/100, Train Loss: 25.3314\n",
      "Epoch 51/100, Train Loss: 25.5417\n",
      "Epoch 52/100, Train Loss: 25.3773\n",
      "Epoch 53/100, Train Loss: 25.4474\n",
      "Epoch 54/100, Train Loss: 25.5165\n",
      "Epoch 55/100, Train Loss: 25.5897\n",
      "Epoch 56/100, Train Loss: 25.3474\n",
      "Epoch 57/100, Train Loss: 25.5737\n",
      "Epoch 58/100, Train Loss: 25.5484\n",
      "Epoch 59/100, Train Loss: 25.3598\n",
      "Epoch 60/100, Train Loss: 25.3799\n",
      "Epoch 61/100, Train Loss: 25.3277\n",
      "Epoch 62/100, Train Loss: 25.6249\n",
      "Epoch 63/100, Train Loss: 25.4274\n",
      "Epoch 64/100, Train Loss: 25.4304\n",
      "Epoch 65/100, Train Loss: 25.4314\n",
      "Epoch 66/100, Train Loss: 25.4416\n",
      "Epoch 67/100, Train Loss: 25.3162\n",
      "Epoch 68/100, Train Loss: 25.2158\n",
      "Epoch 69/100, Train Loss: 25.4511\n",
      "Epoch 70/100, Train Loss: 25.7124\n",
      "Epoch 71/100, Train Loss: 25.2501\n",
      "Epoch 72/100, Train Loss: 25.6972\n",
      "Epoch 73/100, Train Loss: 25.3611\n",
      "Epoch 74/100, Train Loss: 25.2314\n",
      "Epoch 75/100, Train Loss: 25.4568\n",
      "Epoch 76/100, Train Loss: 25.7213\n",
      "Epoch 77/100, Train Loss: 25.2427\n",
      "Epoch 78/100, Train Loss: 25.7872\n",
      "Epoch 79/100, Train Loss: 25.3993\n",
      "Epoch 80/100, Train Loss: 25.6060\n",
      "Epoch 81/100, Train Loss: 25.4564\n",
      "Epoch 82/100, Train Loss: 25.5658\n",
      "Epoch 83/100, Train Loss: 25.3037\n",
      "Epoch 84/100, Train Loss: 25.4804\n",
      "Epoch 85/100, Train Loss: 25.4540\n",
      "Epoch 86/100, Train Loss: 25.3098\n",
      "Epoch 87/100, Train Loss: 25.6451\n",
      "Epoch 88/100, Train Loss: 25.3088\n",
      "Epoch 89/100, Train Loss: 25.5094\n",
      "Epoch 90/100, Train Loss: 25.4657\n",
      "Epoch 91/100, Train Loss: 25.6029\n",
      "Epoch 92/100, Train Loss: 25.3501\n",
      "Epoch 93/100, Train Loss: 25.7987\n",
      "Epoch 94/100, Train Loss: 26.1547\n",
      "Epoch 95/100, Train Loss: 25.6952\n",
      "Epoch 96/100, Train Loss: 25.4612\n",
      "Epoch 97/100, Train Loss: 25.3062\n",
      "Epoch 98/100, Train Loss: 25.4094\n",
      "Epoch 99/100, Train Loss: 25.6777\n",
      "Epoch 100/100, Train Loss: 25.4881\n"
     ]
    }
   ],
   "execution_count": 503
  },
  {
   "metadata": {
    "ExecuteTime": {
     "end_time": "2025-02-17T23:12:18.410388Z",
     "start_time": "2025-02-17T23:12:18.408747Z"
    }
   },
   "cell_type": "code",
   "source": "# plot_model_learning(model, X_train_tensor, y_train_tensor)\n",
   "id": "21602c9855256c62",
   "outputs": [],
   "execution_count": 504
  },
  {
   "metadata": {
    "ExecuteTime": {
     "end_time": "2025-02-17T23:12:18.445247Z",
     "start_time": "2025-02-17T23:12:18.440545Z"
    }
   },
   "cell_type": "code",
   "source": [
    "model.eval()\n",
    "\n",
    "test_loss = 0.0\n",
    "with torch.no_grad():\n",
    "    for X_batch, y_batch in test_loader:\n",
    "        preds = model(X_batch)\n",
    "        loss = criterion(preds, y_batch)\n",
    "        test_loss += loss.item()\n",
    "\n",
    "    test_loss = test_loss / len(test_loader)\n",
    "print(f\"Test Loss: {test_loss:.4f}\")"
   ],
   "id": "b86963d903a4397d",
   "outputs": [
    {
     "name": "stdout",
     "output_type": "stream",
     "text": [
      "Test Loss: 34.9637\n"
     ]
    }
   ],
   "execution_count": 505
  },
  {
   "metadata": {
    "ExecuteTime": {
     "end_time": "2025-02-17T23:12:18.535077Z",
     "start_time": "2025-02-17T23:12:18.473645Z"
    }
   },
   "cell_type": "code",
   "source": [
    "epochs = 100  # Number of epochs\n",
    "train_loss = [0.1 / (epoch + 1) for epoch in range(epochs)]  # Simulated training loss values\n",
    "\n",
    "# Correct plotting\n",
    "plt.figure(figsize=(8, 6))\n",
    "plt.plot(range(1, epochs + 1), train_loss, marker='o', label='Training Loss')\n",
    "plt.title('Training Loss Curve')\n",
    "plt.xlabel('Epoch')\n",
    "plt.ylabel('Loss')\n",
    "plt.legend()\n",
    "plt.grid()\n",
    "plt.show()\n"
   ],
   "id": "b8f30723f636201b",
   "outputs": [
    {
     "data": {
      "text/plain": [
       "<Figure size 800x600 with 1 Axes>"
      ],
      "image/png": "[encoded data removed]"
     },
     "metadata": {},
     "output_type": "display_data"
    }
   ],
   "execution_count": 506
  },
  {
   "metadata": {
    "ExecuteTime": {
     "end_time": "2025-02-17T23:12:18.569324Z",
     "start_time": "2025-02-17T23:12:18.565665Z"
    }
   },
   "cell_type": "code",
   "source": [
    "from sklearn.metrics import r2_score\n",
    "\n",
    "# Predict on the entire test set and calculate R2\n",
    "with torch.no_grad():\n",
    "    predictions = model(X_test_tensor).numpy()\n",
    "r2 = r2_score(y_test, predictions)\n",
    "print(f\"R² Score: {r2:.4f}\")\n"
   ],
   "id": "393de5a64f565f82",
   "outputs": [
    {
     "name": "stdout",
     "output_type": "stream",
     "text": [
      "R² Score: 0.8965\n"
     ]
    }
   ],
   "execution_count": 507
  },
  {
   "metadata": {
    "ExecuteTime": {
     "end_time": "2025-02-17T23:12:18.599777Z",
     "start_time": "2025-02-17T23:12:18.598125Z"
    }
   },
   "cell_type": "code",
   "source": "",
   "id": "40793cf978c41e6a",
   "outputs": [],
   "execution_count": null
  }
 ],
 "metadata": {
  "kernelspec": {
   "display_name": "Python [conda env:mds574]",
   "language": "python",
   "name": "conda-env-mds574-py"
  },
  "language_info": {
   "codemirror_mode": {
    "name": "ipython",
    "version": 2
   },
   "file_extension": ".py",
   "mimetype": "text/x-python",
   "name": "python",
   "nbconvert_exporter": "python",
   "pygments_lexer": "ipython2",
   "version": "2.7.6"
  }
 },
 "nbformat": 4,
 "nbformat_minor": 5
}
